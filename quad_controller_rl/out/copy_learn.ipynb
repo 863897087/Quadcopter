{
 "cells": [
  {
   "cell_type": "code",
   "execution_count": 1,
   "metadata": {},
   "outputs": [],
   "source": [
    "from copy import copy"
   ]
  },
  {
   "cell_type": "code",
   "execution_count": 2,
   "metadata": {},
   "outputs": [],
   "source": [
    "class At:\n",
    "    def __init__(self, param):\n",
    "        print(\"At \"+\"init {} \".format(param))\n",
    "        self.myself = param\n",
    "        \n",
    "    def __call__(self, param):\n",
    "        print(\"At \"+\"call {} \".format(param))\n",
    "        print(\"At \"+\"myself {} \".format(self.myself))"
   ]
  },
  {
   "cell_type": "code",
   "execution_count": 3,
   "metadata": {},
   "outputs": [
    {
     "name": "stdout",
     "output_type": "stream",
     "text": [
      "At init numberAt \n"
     ]
    }
   ],
   "source": [
    "numberAt = At(\"numberAt\")"
   ]
  },
  {
   "cell_type": "code",
   "execution_count": 4,
   "metadata": {},
   "outputs": [],
   "source": [
    "numberAc = copy(numberAt)"
   ]
  },
  {
   "cell_type": "code",
   "execution_count": 7,
   "metadata": {},
   "outputs": [
    {
     "name": "stdout",
     "output_type": "stream",
     "text": [
      "False\n",
      "At_name\n",
      "Ac_name\n"
     ]
    }
   ],
   "source": [
    "print(numberAc is numberAt)\n",
    "print(numberAt.name)\n",
    "print(numberAc.name)"
   ]
  },
  {
   "cell_type": "code",
   "execution_count": 6,
   "metadata": {},
   "outputs": [],
   "source": [
    "numberAt.name = \"At_name\"\n",
    "numberAc.name = \"Ac_name\""
   ]
  },
  {
   "cell_type": "code",
   "execution_count": 9,
   "metadata": {},
   "outputs": [
    {
     "name": "stdout",
     "output_type": "stream",
     "text": [
      "At call numberAc \n",
      "At myself numberAt \n",
      "At call numberAt \n",
      "At myself numberAt \n"
     ]
    }
   ],
   "source": [
    "numberAc(\"numberAc\")\n",
    "numberAt(\"numberAt\")"
   ]
  },
  {
   "cell_type": "code",
   "execution_count": null,
   "metadata": {},
   "outputs": [],
   "source": []
  }
 ],
 "metadata": {
  "kernelspec": {
   "display_name": "Python 3",
   "language": "python",
   "name": "python3"
  },
  "language_info": {
   "codemirror_mode": {
    "name": "ipython",
    "version": 3
   },
   "file_extension": ".py",
   "mimetype": "text/x-python",
   "name": "python",
   "nbconvert_exporter": "python",
   "pygments_lexer": "ipython3",
   "version": "3.5.2"
  }
 },
 "nbformat": 4,
 "nbformat_minor": 2
}
