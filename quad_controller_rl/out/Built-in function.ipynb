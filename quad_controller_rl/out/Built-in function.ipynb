{
 "cells": [
  {
   "cell_type": "code",
   "execution_count": 1,
   "metadata": {},
   "outputs": [],
   "source": [
    "class Atest:\n",
    "    def __init__(self):\n",
    "        self.Number = 11\n",
    "        print(\"Atest Class\")\n",
    "    def __call__(self):\n",
    "        print(\"Atest Call\")\n",
    "    def __str__(self):\n",
    "        return \"MyStrFunc\"\n",
    "    def __repr__(self):\n",
    "        return \"MyReprFunc\"\n",
    "    \n",
    "    @property\n",
    "    def Numberopt(self):\n",
    "        print(\"property Numberopt\")\n",
    "        return self.Number\n",
    "    @Numberopt.setter\n",
    "    def Numberopt(self, value):\n",
    "        print(\"setter Numberopt\")\n",
    "        self.Number = value\n",
    "        \n",
    "class Btest(Atest):\n",
    "    def __init__(self):\n",
    "        super().__init__()\n",
    "        print(\"Btest Class\")"
   ]
  },
  {
   "cell_type": "code",
   "execution_count": 2,
   "metadata": {},
   "outputs": [
    {
     "name": "stdout",
     "output_type": "stream",
     "text": [
      "Atest Class\n",
      "Atest Class\n",
      "Btest Class\n"
     ]
    }
   ],
   "source": [
    "Anumber = Atest()\n",
    "Bnumber = Btest()"
   ]
  },
  {
   "cell_type": "code",
   "execution_count": 4,
   "metadata": {},
   "outputs": [
    {
     "name": "stdout",
     "output_type": "stream",
     "text": [
      "setter Numberopt\n"
     ]
    }
   ],
   "source": [
    "Anumber.Numberopt = 10"
   ]
  },
  {
   "cell_type": "code",
   "execution_count": 5,
   "metadata": {},
   "outputs": [
    {
     "name": "stdout",
     "output_type": "stream",
     "text": [
      "property Numberopt\n",
      "10\n"
     ]
    }
   ],
   "source": [
    "print(Anumber.Numberopt)"
   ]
  },
  {
   "cell_type": "code",
   "execution_count": 17,
   "metadata": {},
   "outputs": [
    {
     "name": "stdout",
     "output_type": "stream",
     "text": [
      "MyStrFunc\n",
      "MyStrFunc\n"
     ]
    },
    {
     "data": {
      "text/plain": [
       "MyReprFunc"
      ]
     },
     "metadata": {},
     "output_type": "display_data"
    },
    {
     "data": {
      "text/plain": [
       "MyReprFunc"
      ]
     },
     "metadata": {},
     "output_type": "display_data"
    }
   ],
   "source": [
    "print(Anumber)\n",
    "print(Bnumber)\n",
    "display(Anumber)\n",
    "display(Bnumber)"
   ]
  },
  {
   "cell_type": "code",
   "execution_count": 11,
   "metadata": {},
   "outputs": [],
   "source": [
    "def Afunc(handle):\n",
    "    print(\"Afunc Run\")\n",
    "Ahandle = Afunc"
   ]
  },
  {
   "cell_type": "code",
   "execution_count": 12,
   "metadata": {},
   "outputs": [
    {
     "name": "stdout",
     "output_type": "stream",
     "text": [
      "False\n",
      "True\n",
      "True\n",
      "True\n",
      "True\n",
      "True\n"
     ]
    }
   ],
   "source": [
    "print(callable('abc'))\n",
    "print(callable(Atest))\n",
    "print(callable(Anumber))\n",
    "print(callable(Btest))\n",
    "print(callable(Bnumber))\n",
    "print(callable(Ahandle))"
   ]
  },
  {
   "cell_type": "code",
   "execution_count": 14,
   "metadata": {},
   "outputs": [],
   "source": [
    "def Decorator1(value):\n",
    "    print(\"Decorator1\", value)\n",
    "    def Decorator1_layer(value):\n",
    "        print(\"Decorator1_layer\", value)\n",
    "        return value\n",
    "    return Decorator1_layer\n",
    "\n",
    "def Decorator2(value):\n",
    "    print(\"Decorator2\", value)\n",
    "    def Decorator2_layer(value):\n",
    "        print(\"Decorator2_layer\", value)\n",
    "        return value\n",
    "    return Decorator2_layer"
   ]
  },
  {
   "cell_type": "code",
   "execution_count": 15,
   "metadata": {},
   "outputs": [
    {
     "name": "stdout",
     "output_type": "stream",
     "text": [
      "Decorator2 <function DecoratorTest1 at 0x7f6d4aef08c8>\n",
      "Decorator1 <function Decorator2.<locals>.Decorator2_layer at 0x7f6d4aef0d90>\n",
      "Decorator1 123\n",
      "Decorator2 456\n",
      "Decorator2_layer <function DecoratorTest2 at 0x7f6d4aef0268>\n",
      "Decorator1_layer <function DecoratorTest2 at 0x7f6d4aef0268>\n"
     ]
    }
   ],
   "source": [
    "@Decorator1\n",
    "@Decorator2\n",
    "def DecoratorTest1(value):\n",
    "    print(\"DecoratorTest1\", value)\n",
    "    return value\n",
    "\n",
    "@Decorator1(\"123\")\n",
    "@Decorator2(\"456\")\n",
    "def DecoratorTest2(value):\n",
    "    print(\"DecoratorTest2\", value)\n",
    "    return value\n",
    "    "
   ]
  },
  {
   "cell_type": "code",
   "execution_count": 15,
   "metadata": {},
   "outputs": [
    {
     "name": "stdout",
     "output_type": "stream",
     "text": [
      "1\n"
     ]
    }
   ],
   "source": [
    "print( 1 or -1 ) "
   ]
  },
  {
   "cell_type": "code",
   "execution_count": 17,
   "metadata": {},
   "outputs": [
    {
     "data": {
      "text/plain": [
       "False"
      ]
     },
     "execution_count": 17,
     "metadata": {},
     "output_type": "execute_result"
    }
   ],
   "source": [
    "isinstance(1., int)"
   ]
  },
  {
   "cell_type": "code",
   "execution_count": null,
   "metadata": {},
   "outputs": [],
   "source": []
  }
 ],
 "metadata": {
  "kernelspec": {
   "display_name": "Python 3",
   "language": "python",
   "name": "python3"
  },
  "language_info": {
   "codemirror_mode": {
    "name": "ipython",
    "version": 3
   },
   "file_extension": ".py",
   "mimetype": "text/x-python",
   "name": "python",
   "nbconvert_exporter": "python",
   "pygments_lexer": "ipython3",
   "version": "3.6.5"
  }
 },
 "nbformat": 4,
 "nbformat_minor": 2
}
