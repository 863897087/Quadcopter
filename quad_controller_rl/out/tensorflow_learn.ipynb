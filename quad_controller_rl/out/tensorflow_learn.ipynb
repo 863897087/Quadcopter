{
 "cells": [
  {
   "cell_type": "code",
   "execution_count": 1,
   "metadata": {},
   "outputs": [],
   "source": [
    "import tensorflow as tf"
   ]
  },
  {
   "cell_type": "code",
   "execution_count": 2,
   "metadata": {},
   "outputs": [
    {
     "name": "stdout",
     "output_type": "stream",
     "text": [
      "1.10.0\n"
     ]
    }
   ],
   "source": [
    "print(tf.__version__)"
   ]
  },
  {
   "cell_type": "code",
   "execution_count": 3,
   "metadata": {},
   "outputs": [],
   "source": [
    "x = tf.Variable(0.0)\n",
    "x_plus = tf.assign_add(x, 1)"
   ]
  },
  {
   "cell_type": "code",
   "execution_count": 4,
   "metadata": {},
   "outputs": [
    {
     "name": "stdout",
     "output_type": "stream",
     "text": [
      "WARNING:tensorflow:From /home/robond/.local/lib/python3.5/site-packages/tensorflow/python/util/tf_should_use.py:118: initialize_all_variables (from tensorflow.python.ops.variables) is deprecated and will be removed after 2017-03-02.\n",
      "Instructions for updating:\n",
      "Use `tf.global_variables_initializer` instead.\n"
     ]
    }
   ],
   "source": [
    "init = tf.initialize_all_variables()"
   ]
  },
  {
   "cell_type": "code",
   "execution_count": 5,
   "metadata": {},
   "outputs": [],
   "source": [
    "with tf.control_dependencies([x_plus]):\n",
    "    y_group = x\n",
    "    y_group_opt = tf.group(y_group)\n",
    "    \n",
    "    y_identity_opt=tf.identity(x)"
   ]
  },
  {
   "cell_type": "code",
   "execution_count": 6,
   "metadata": {},
   "outputs": [
    {
     "name": "stdout",
     "output_type": "stream",
     "text": [
      "1.0\n",
      "2.0\n",
      "3.0\n",
      "4.0\n",
      "5.0\n",
      "6.0\n",
      "7.0\n",
      "8.0\n",
      "9.0\n",
      "10.0\n"
     ]
    }
   ],
   "source": [
    "with tf.Session() as session:\n",
    "    init.run()\n",
    "    for i in range(5):\n",
    "        session.run(y_group_opt)\n",
    "        print(session.run(y_group))\n",
    "        print(session.run(y_identity_opt))"
   ]
  },
  {
   "cell_type": "code",
   "execution_count": 3,
   "metadata": {},
   "outputs": [],
   "source": [
    "input_place = tf.placeholder(shape=(None,4,3), dtype='float32')\n",
    "output_place = tf.layers.flatten(input_place)"
   ]
  },
  {
   "cell_type": "code",
   "execution_count": 16,
   "metadata": {},
   "outputs": [
    {
     "name": "stdout",
     "output_type": "stream",
     "text": [
      "Tensor(\"Placeholder:0\", shape=(?, 4, 3), dtype=float32)\n",
      "Tensor(\"flatten/Reshape:0\", shape=(?, 12), dtype=float32)\n",
      "12\n"
     ]
    }
   ],
   "source": [
    "print(input_place)\n",
    "print(output_place)\n",
    "print( output_place.get_shape()[1].value )"
   ]
  },
  {
   "cell_type": "code",
   "execution_count": 41,
   "metadata": {},
   "outputs": [],
   "source": [
    "t1 = [[[1,1,1],[2,2,2]],[[3,3,3],[4,4,4]]]\n",
    "t2 = [[[5,5,5],[6,6,6]],[[7,7,7],[8,8,8]]]\n",
    "t3 = tf.concat([t1, t2], axis=-1)"
   ]
  },
  {
   "cell_type": "code",
   "execution_count": 42,
   "metadata": {},
   "outputs": [
    {
     "name": "stdout",
     "output_type": "stream",
     "text": [
      "[[[1 1 1 5 5 5]\n",
      "  [2 2 2 6 6 6]]\n",
      "\n",
      " [[3 3 3 7 7 7]\n",
      "  [4 4 4 8 8 8]]]\n"
     ]
    }
   ],
   "source": [
    "with tf.Session() as session:\n",
    "    tf.initialize_all_variables().run()\n",
    "    print(session.run(t3))"
   ]
  },
  {
   "cell_type": "code",
   "execution_count": 3,
   "metadata": {},
   "outputs": [],
   "source": [
    "input_holder = tf.placeholder(dtype=tf.float32, name='input', shape=[1, 2])"
   ]
  },
  {
   "cell_type": "code",
   "execution_count": 4,
   "metadata": {},
   "outputs": [],
   "source": [
    "with tf.variable_scope(name_or_scope=\"scope_0\", dtype=tf.float32):\n",
    "    w1 = tf.get_variable(\n",
    "        name='w1', \n",
    "        shape=[2, 2], \n",
    "        dtype=tf.float32, \n",
    "        initializer=tf.constant_initializer([[0,0],[1,1]]),\n",
    "        trainable=True\n",
    "    )\n",
    "    b1 = tf.get_variable(\n",
    "        name='b1',\n",
    "        shape=[1, 2],\n",
    "        dtype=tf.float32,\n",
    "        initializer=tf.random_uniform_initializer(-1,1),\n",
    "        trainable=True\n",
    "    )\n",
    "    o1 = tf.add( tf.matmul(input_holder, w1), b1 )\n",
    "    \n",
    "    w2 = tf.get_variable(\n",
    "        name=\"w2\",\n",
    "        shape=[2, 3],\n",
    "        dtype=tf.float32,\n",
    "        initializer=tf.constant_initializer([[4,4,4],[3,3,3]]),\n",
    "        trainable=True\n",
    "    )\n",
    "    b2 = tf.get_variable(\n",
    "        name='b2',\n",
    "        shape=[1, 3],\n",
    "        dtype=tf.float32,\n",
    "        initializer=tf.random_normal_initializer(-1,1),\n",
    "        trainable=True\n",
    "    )\n",
    "    o2 = tf.add( tf.matmul(o1, w2), b2 )"
   ]
  },
  {
   "cell_type": "code",
   "execution_count": 5,
   "metadata": {},
   "outputs": [],
   "source": [
    "gradient = tf.gradients(o2, input_holder)"
   ]
  },
  {
   "cell_type": "code",
   "execution_count": 6,
   "metadata": {},
   "outputs": [],
   "source": [
    "list_var = tf.get_collection( tf.GraphKeys.GLOBAL_VARIABLES, scope='scope_0' )"
   ]
  },
  {
   "cell_type": "code",
   "execution_count": 8,
   "metadata": {},
   "outputs": [
    {
     "data": {
      "text/plain": [
       "[array([[36., 99.]], dtype=float32)]"
      ]
     },
     "metadata": {},
     "output_type": "display_data"
    },
    {
     "data": {
      "text/plain": [
       "array([[1., 2.],\n",
       "       [4., 5.]], dtype=float32)"
      ]
     },
     "metadata": {},
     "output_type": "display_data"
    },
    {
     "data": {
      "text/plain": [
       "array([[-0.38562202, -0.15654874]], dtype=float32)"
      ]
     },
     "metadata": {},
     "output_type": "display_data"
    },
    {
     "data": {
      "text/plain": [
       "array([[2., 2., 2.],\n",
       "       [5., 5., 5.]], dtype=float32)"
      ]
     },
     "metadata": {},
     "output_type": "display_data"
    },
    {
     "data": {
      "text/plain": [
       "array([[-0.8421599 , -0.29188538, -1.2433362 ]], dtype=float32)"
      ]
     },
     "metadata": {},
     "output_type": "display_data"
    }
   ],
   "source": [
    "save_h = tf.train.Saver()\n",
    "with tf.Session() as sess:\n",
    "    sess.run(tf.initialize_all_variables())\n",
    "    display(sess.run(gradient, feed_dict={input_holder:[[1,2]]}))\n",
    "    save_h.save(sess, './test_variale')\n",
    "    for var in list_var:\n",
    "        display(sess.run(var.value()))"
   ]
  },
  {
   "cell_type": "code",
   "execution_count": 7,
   "metadata": {},
   "outputs": [],
   "source": [
    "save_h = tf.train.Saver()"
   ]
  },
  {
   "cell_type": "code",
   "execution_count": 8,
   "metadata": {},
   "outputs": [
    {
     "name": "stdout",
     "output_type": "stream",
     "text": [
      "WARNING:tensorflow:From /home/robond/.local/lib/python3.5/site-packages/tensorflow/python/util/tf_should_use.py:118: initialize_all_variables (from tensorflow.python.ops.variables) is deprecated and will be removed after 2017-03-02.\n",
      "Instructions for updating:\n",
      "Use `tf.global_variables_initializer` instead.\n"
     ]
    },
    {
     "data": {
      "text/plain": [
       "array([[0., 0.],\n",
       "       [1., 1.]], dtype=float32)"
      ]
     },
     "metadata": {},
     "output_type": "display_data"
    },
    {
     "data": {
      "text/plain": [
       "array([[-0.21566272, -0.9949472 ]], dtype=float32)"
      ]
     },
     "metadata": {},
     "output_type": "display_data"
    },
    {
     "data": {
      "text/plain": [
       "array([[4., 4., 4.],\n",
       "       [3., 3., 3.]], dtype=float32)"
      ]
     },
     "metadata": {},
     "output_type": "display_data"
    },
    {
     "data": {
      "text/plain": [
       "array([[-2.1522036 ,  0.50479794, -0.32831913]], dtype=float32)"
      ]
     },
     "metadata": {},
     "output_type": "display_data"
    },
    {
     "name": "stdout",
     "output_type": "stream",
     "text": [
      "INFO:tensorflow:Restoring parameters from ./test_variale\n"
     ]
    },
    {
     "data": {
      "text/plain": [
       "array([[1., 2.],\n",
       "       [4., 5.]], dtype=float32)"
      ]
     },
     "metadata": {},
     "output_type": "display_data"
    },
    {
     "data": {
      "text/plain": [
       "array([[-0.38562202, -0.15654874]], dtype=float32)"
      ]
     },
     "metadata": {},
     "output_type": "display_data"
    },
    {
     "data": {
      "text/plain": [
       "array([[2., 2., 2.],\n",
       "       [5., 5., 5.]], dtype=float32)"
      ]
     },
     "metadata": {},
     "output_type": "display_data"
    },
    {
     "data": {
      "text/plain": [
       "array([[-0.8421599 , -0.29188538, -1.2433362 ]], dtype=float32)"
      ]
     },
     "metadata": {},
     "output_type": "display_data"
    }
   ],
   "source": [
    "with tf.Session() as sess:\n",
    "    sess.run(tf.initialize_all_variables())\n",
    "    \n",
    "    list_var = tf.get_collection( tf.GraphKeys.GLOBAL_VARIABLES, scope='scope_0' )\n",
    "    for var in list_var:\n",
    "        display(sess.run(var.value()))\n",
    "        \n",
    "    save_h.restore(sess, './test_variale')\n",
    "    \n",
    "    list_var = tf.get_collection( tf.GraphKeys.GLOBAL_VARIABLES, scope='scope_0' )\n",
    "    for var in list_var:\n",
    "        display(sess.run(var.value()))"
   ]
  },
  {
   "cell_type": "code",
   "execution_count": 11,
   "metadata": {},
   "outputs": [],
   "source": [
    "saver = tf.train.Saver(\n",
    "    max_to_keep=,\n",
    "    keep_checkpoint_every_n_hours=\n",
    ")\n",
    "saver.save(\n",
    "    sess=,\n",
    "    save_path=,\n",
    "    global_step=,\n",
    "    write_meta_graph=,\n",
    ")\n",
    "\n",
    "saver = tf.train.import_meta_graph( '*.meta' )\n",
    "saver.restore(\n",
    "    sess,\n",
    "    tf.train.latest_checkpoint('./')\n",
    ")\n",
    "\n",
    "graph = tf.get_default_graph()\n",
    "graph.get_tensor_by_name( 'w1:0' )"
   ]
  },
  {
   "cell_type": "code",
   "execution_count": 26,
   "metadata": {},
   "outputs": [
    {
     "data": {
      "text/plain": [
       "array([ 1.3046898e-03,  7.7915197e-04,  1.1418957e-03,  8.7922742e-04,\n",
       "       -1.3859597e-03, -1.6696237e-04, -1.4350954e-03,  1.4423671e-03,\n",
       "        3.0131005e-05, -4.0210065e-04], dtype=float32)"
      ]
     },
     "metadata": {},
     "output_type": "display_data"
    }
   ],
   "source": [
    "with tf.Session() as sess:\n",
    "    display(sess.run(tf.random_normal([10], mean=0, stddev=0.0008)))"
   ]
  },
  {
   "cell_type": "code",
   "execution_count": null,
   "metadata": {},
   "outputs": [],
   "source": []
  }
 ],
 "metadata": {
  "kernelspec": {
   "display_name": "Python 3",
   "language": "python",
   "name": "python3"
  },
  "language_info": {
   "codemirror_mode": {
    "name": "ipython",
    "version": 3
   },
   "file_extension": ".py",
   "mimetype": "text/x-python",
   "name": "python",
   "nbconvert_exporter": "python",
   "pygments_lexer": "ipython3",
   "version": "3.5.2"
  }
 },
 "nbformat": 4,
 "nbformat_minor": 2
}
